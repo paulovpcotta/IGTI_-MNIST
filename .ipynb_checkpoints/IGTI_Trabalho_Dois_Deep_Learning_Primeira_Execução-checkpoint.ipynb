{
 "cells": [
  {
   "cell_type": "markdown",
   "metadata": {},
   "source": [
    "## Tabalho Final de Deep Learning IGTI\n",
    "\n",
    "#### Aluno: Paulo Vitor Pereira Cotta"
   ]
  },
  {
   "cell_type": "code",
   "execution_count": 2,
   "metadata": {},
   "outputs": [
    {
     "name": "stderr",
     "output_type": "stream",
     "text": [
      "/Users/paulocotta/anaconda3/lib/python3.6/site-packages/h5py/__init__.py:34: FutureWarning: Conversion of the second argument of issubdtype from `float` to `np.floating` is deprecated. In future, it will be treated as `np.float64 == np.dtype(float).type`.\n",
      "  from ._conv import register_converters as _register_converters\n",
      "Using TensorFlow backend.\n"
     ]
    }
   ],
   "source": [
    "import numpy\n",
    "from keras.datasets import mnist\n",
    "from keras.models import Sequential\n",
    "from keras.layers import Dense\n",
    "from keras.layers import Dropout\n",
    "from keras.utils import np_utils"
   ]
  },
  {
   "cell_type": "code",
   "execution_count": 3,
   "metadata": {},
   "outputs": [],
   "source": [
    "(X_train, y_train), (X_test, y_test) = mnist.load_data()"
   ]
  },
  {
   "cell_type": "code",
   "execution_count": 4,
   "metadata": {},
   "outputs": [],
   "source": [
    "num_pixels = X_train.shape[1] * X_train.shape[2]\n",
    "X_train = X_train.reshape(X_train.shape[0], num_pixels).astype('float32')\n",
    "X_test = X_test.reshape(X_test.shape[0], num_pixels).astype('float32')"
   ]
  },
  {
   "cell_type": "code",
   "execution_count": 5,
   "metadata": {},
   "outputs": [],
   "source": [
    "X_train = X_train / 255\n",
    "X_test = X_test / 255"
   ]
  },
  {
   "cell_type": "code",
   "execution_count": 6,
   "metadata": {},
   "outputs": [],
   "source": [
    "y_train = np_utils.to_categorical(y_train)\n",
    "y_test = np_utils.to_categorical(y_test)\n",
    "num_classes = y_test.shape[1]"
   ]
  },
  {
   "cell_type": "code",
   "execution_count": 7,
   "metadata": {},
   "outputs": [],
   "source": [
    "model = Sequential()\n",
    "model.add(Dense(num_pixels, input_dim=num_pixels, kernel_initializer='normal', activation='relu'))\n",
    "model.add(Dense(num_classes, kernel_initializer='normal', activation='softmax'))"
   ]
  },
  {
   "cell_type": "code",
   "execution_count": 11,
   "metadata": {},
   "outputs": [
    {
     "name": "stdout",
     "output_type": "stream",
     "text": [
      "Train on 60000 samples, validate on 10000 samples\n",
      "Epoch 1/10\n",
      " - 8s - loss: 0.0051 - acc: 0.9981 - val_loss: 0.0918 - val_acc: 0.9807\n",
      "Epoch 2/10\n",
      " - 8s - loss: 0.0018 - acc: 0.9995 - val_loss: 0.0816 - val_acc: 0.9828\n",
      "Epoch 3/10\n",
      " - 8s - loss: 0.0017 - acc: 0.9995 - val_loss: 0.0809 - val_acc: 0.9833\n",
      "Epoch 4/10\n",
      " - 8s - loss: 0.0019 - acc: 0.9994 - val_loss: 0.0867 - val_acc: 0.9808\n",
      "Epoch 5/10\n",
      " - 8s - loss: 0.0065 - acc: 0.9981 - val_loss: 0.0944 - val_acc: 0.9793\n",
      "Epoch 6/10\n",
      " - 8s - loss: 0.0053 - acc: 0.9984 - val_loss: 0.0893 - val_acc: 0.9820\n",
      "Epoch 7/10\n",
      " - 9s - loss: 0.0022 - acc: 0.9993 - val_loss: 0.0839 - val_acc: 0.9822\n",
      "Epoch 8/10\n",
      " - 9s - loss: 2.1089e-04 - acc: 1.0000 - val_loss: 0.0787 - val_acc: 0.9835\n",
      "Epoch 9/10\n",
      " - 8s - loss: 9.0324e-05 - acc: 1.0000 - val_loss: 0.0788 - val_acc: 0.9836\n",
      "Epoch 10/10\n",
      " - 8s - loss: 7.1030e-05 - acc: 1.0000 - val_loss: 0.0792 - val_acc: 0.9837\n",
      "acc: 98.37%\n"
     ]
    }
   ],
   "source": [
    "model.compile(loss='categorical_crossentropy', optimizer='adam', metrics=['accuracy'])\n",
    "model.fit(X_train,  y_train,  validation_data=(X_test,  y_test),  epochs=10,  batch_size=200, verbose=2)\n",
    "scores = model.evaluate(X_test, y_test, verbose=0)\n",
    "print(\"%s: %.2f%%\" % (model.metrics_names[1], scores[1]*100))"
   ]
  }
 ],
 "metadata": {
  "kernelspec": {
   "display_name": "Python 3",
   "language": "python",
   "name": "python3"
  },
  "language_info": {
   "codemirror_mode": {
    "name": "ipython",
    "version": 3
   },
   "file_extension": ".py",
   "mimetype": "text/x-python",
   "name": "python",
   "nbconvert_exporter": "python",
   "pygments_lexer": "ipython3",
   "version": "3.6.4"
  }
 },
 "nbformat": 4,
 "nbformat_minor": 2
}
