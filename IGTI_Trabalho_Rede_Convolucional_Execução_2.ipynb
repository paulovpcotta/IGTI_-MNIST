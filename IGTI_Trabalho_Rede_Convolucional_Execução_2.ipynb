{
 "cells": [
  {
   "cell_type": "markdown",
   "metadata": {},
   "source": [
    "## Tabalho Final de Deep Learning IGTI\n",
    "\n",
    "#### Aluno: Paulo Vitor Pereira Cotta"
   ]
  },
  {
   "cell_type": "code",
   "execution_count": 7,
   "metadata": {},
   "outputs": [],
   "source": [
    "import numpy\n",
    "from keras.datasets import mnist\n",
    "from keras.models import Sequential\n",
    "from keras.layers import Dense\n",
    "from keras.layers import Dropout\n",
    "from keras.layers import Flatten\n",
    "from keras.layers.convolutional import Conv2D\n",
    "from keras.layers.convolutional import MaxPooling2D\n",
    "from keras.utils import np_utils"
   ]
  },
  {
   "cell_type": "code",
   "execution_count": 8,
   "metadata": {},
   "outputs": [],
   "source": [
    "(X_train, y_train), (X_test, y_test) = mnist.load_data()"
   ]
  },
  {
   "cell_type": "code",
   "execution_count": 9,
   "metadata": {},
   "outputs": [],
   "source": [
    "X_train = X_train.reshape(X_train.shape[0], 28, 28, 1).astype('float32')\n",
    "X_test = X_test.reshape(X_test.shape[0], 28, 28, 1).astype('float32')\n",
    "X_train = X_train / 255\n",
    "X_test = X_test / 255"
   ]
  },
  {
   "cell_type": "code",
   "execution_count": 10,
   "metadata": {},
   "outputs": [],
   "source": [
    "y_train = np_utils.to_categorical(y_train)\n",
    "y_test = np_utils.to_categorical(y_test)\n",
    "num_classes = y_test.shape[1]"
   ]
  },
  {
   "cell_type": "code",
   "execution_count": 11,
   "metadata": {},
   "outputs": [],
   "source": [
    "model = Sequential()\n",
    "model.add(Conv2D(32, (5, 5), input_shape=(28, 28, 1), activation='relu'))\n",
    "model.add(MaxPooling2D(pool_size=(2, 2)))\n",
    "model.add(Dropout(0.2))\n",
    "model.add(Flatten())\n",
    "model.add(Dense(128, activation='relu'))\n",
    "model.add(Dense(num_classes, activation='softmax'))"
   ]
  },
  {
   "cell_type": "code",
   "execution_count": 15,
   "metadata": {},
   "outputs": [
    {
     "name": "stdout",
     "output_type": "stream",
     "text": [
      "Train on 60000 samples, validate on 10000 samples\n",
      "Epoch 1/10\n",
      " - 44s - loss: 0.0030 - acc: 0.9991 - val_loss: 0.0493 - val_acc: 0.9893\n",
      "Epoch 2/10\n",
      " - 43s - loss: 0.0024 - acc: 0.9991 - val_loss: 0.0519 - val_acc: 0.9905\n",
      "Epoch 3/10\n",
      " - 46s - loss: 0.0039 - acc: 0.9989 - val_loss: 0.0475 - val_acc: 0.9910\n",
      "Epoch 4/10\n",
      " - 47s - loss: 0.0019 - acc: 0.9994 - val_loss: 0.0509 - val_acc: 0.9902\n",
      "Epoch 5/10\n",
      " - 50s - loss: 0.0024 - acc: 0.9992 - val_loss: 0.0555 - val_acc: 0.9888\n",
      "Epoch 6/10\n",
      " - 48s - loss: 0.0029 - acc: 0.9991 - val_loss: 0.0495 - val_acc: 0.9895\n",
      "Epoch 7/10\n",
      " - 46s - loss: 0.0024 - acc: 0.9993 - val_loss: 0.0562 - val_acc: 0.9896\n",
      "Epoch 8/10\n",
      " - 47s - loss: 0.0023 - acc: 0.9993 - val_loss: 0.0530 - val_acc: 0.9896\n",
      "Epoch 9/10\n",
      " - 50s - loss: 0.0021 - acc: 0.9993 - val_loss: 0.0541 - val_acc: 0.9892\n",
      "Epoch 10/10\n",
      " - 46s - loss: 0.0028 - acc: 0.9990 - val_loss: 0.0558 - val_acc: 0.9900\n",
      "acc: 99.00%\n"
     ]
    }
   ],
   "source": [
    "model.compile(loss='categorical_crossentropy', optimizer='adam', metrics=['accuracy'])\n",
    "model.fit(X_train,  y_train,  validation_data=(X_test,  y_test),  epochs=10,  batch_size=200, verbose=2)\n",
    "scores = model.evaluate(X_test, y_test, verbose=0)\n",
    "print(\"%s: %.2f%%\" % (model.metrics_names[1], scores[1]*100))"
   ]
  }
 ],
 "metadata": {
  "kernelspec": {
   "display_name": "Python 3",
   "language": "python",
   "name": "python3"
  },
  "language_info": {
   "codemirror_mode": {
    "name": "ipython",
    "version": 3
   },
   "file_extension": ".py",
   "mimetype": "text/x-python",
   "name": "python",
   "nbconvert_exporter": "python",
   "pygments_lexer": "ipython3",
   "version": "3.6.4"
  }
 },
 "nbformat": 4,
 "nbformat_minor": 2
}
